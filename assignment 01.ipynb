{
 "cells": [
  {
   "cell_type": "raw",
   "id": "758d9e35-3f54-4ffa-96ee-e3a122ff87dd",
   "metadata": {},
   "source": [
    "1. Count Digits, Letters, and Special Characters\n",
    "\n",
    "Ask the user to enter a string. Count how many letters, digits, and special characters it has.\n",
    "\n",
    "Hint: use isalpha(), isdigit(), and else."
   ]
  },
  {
   "cell_type": "code",
   "execution_count": 2,
   "id": "bcd8bdfa-e119-4174-9f9f-1ddb250106ed",
   "metadata": {},
   "outputs": [
    {
     "name": "stdin",
     "output_type": "stream",
     "text": [
      "Enter a string:  hamza113@#$\n"
     ]
    },
    {
     "name": "stdout",
     "output_type": "stream",
     "text": [
      "Letters: 5\n",
      "Digits: 3\n",
      "Special Characters: 3\n"
     ]
    }
   ],
   "source": [
    "user_input = input(\"Enter a string: \")\n",
    "letters = 0\n",
    "digits = 0\n",
    "characters = 0\n",
    "for char in user_input:\n",
    "    if char.isalpha():\n",
    "        letters += 1\n",
    "    elif char.isdigit():\n",
    "        digits += 1\n",
    "    else:\n",
    "        characters += 1\n",
    "\n",
    "print(\"Letters:\", letters)\n",
    "print(\"Digits:\", digits)\n",
    "print(\"Special Characters:\", characters)\n",
    "\n"
   ]
  },
  {
   "cell_type": "raw",
   "id": "c6eb8328-0f58-463c-b008-be2a340386de",
   "metadata": {},
   "source": [
    "2.Numbers Divisible by 4 or 6 (But Not Both)\n",
    "  Input a range (start, end) and print numbers divisible by 4 or 6 — but not both.\n",
    "  Hint: use logical operators and, or, not.\n",
    "  Example:\n",
    "  Input → 1, 30\n",
    "\n",
    "Output → 4, 6, 8, 16, 18, 20, 28, 30\n",
    "\n"
   ]
  },
  {
   "cell_type": "code",
   "execution_count": 7,
   "id": "cf374fd5-7826-4156-a7c2-b69c7b21a973",
   "metadata": {},
   "outputs": [
    {
     "name": "stdin",
     "output_type": "stream",
     "text": [
      "Enter numbers to start from:  1\n",
      "Enter numbers to end:  30\n"
     ]
    },
    {
     "name": "stdout",
     "output_type": "stream",
     "text": [
      "4,6,8,16,18,20,28,30,"
     ]
    }
   ],
   "source": [
    "range_start = int(input(\"Enter numbers to start from: \"))\n",
    "range_end = int(input(\"Enter numbers to end: \"))\n",
    "\n",
    "for n in range(range_start, range_end + 1):\n",
    "    if (n % 4 == 0 or n % 6 == 0) and  not (n % 4 == 0 and n % 6 == 0):\n",
    "        print(n, end=\",\")"
   ]
  },
  {
   "cell_type": "raw",
   "id": "693f3ce4-8cf6-45ad-9cf2-a71cf07bc606",
   "metadata": {},
   "source": [
    "3. Count Uppercase and Lowercase Letters\n",
    "Input a sentence and count how many characters are uppercase and lowercase.\n",
    "Hint: use isupper() and islower().\n"
   ]
  },
  {
   "cell_type": "code",
   "execution_count": 8,
   "id": "aa945728-9081-4384-ae94-3b92ed0675f7",
   "metadata": {},
   "outputs": [
    {
     "name": "stdin",
     "output_type": "stream",
     "text": [
      "Enter sentence:  my name is HAMZA\n"
     ]
    },
    {
     "name": "stdout",
     "output_type": "stream",
     "text": [
      "capital letters: 5\n",
      "small letters: 8\n"
     ]
    }
   ],
   "source": [
    "user_input = input(\"Enter sentence: \")\n",
    "capital_letters = 0\n",
    "small_letters = 0\n",
    "for i in user_input:\n",
    "    if i.isupper():  \n",
    "        capital_letters += 1\n",
    "    elif i.islower():  \n",
    "        small_letters += 1\n",
    "print(\"capital letters:\", capital_letters)\n",
    "print(\"small letters:\", small_letters )"
   ]
  },
  {
   "cell_type": "raw",
   "id": "0a3e5ad5-9971-440b-aff0-76b90d7cb366",
   "metadata": {},
   "source": [
    "4. Replace Vowels with ‘*’\n",
    "   Ask for a word and print it again, but every vowel (a, e, i, o, u) should be replaced with *.\n",
    "   Example: \"education\" → \"*d*c*t**n\"\n",
    "\n"
   ]
  },
  {
   "cell_type": "code",
   "execution_count": 10,
   "id": "0c1e4dbd-56a2-48b4-b00f-9750f39a2923",
   "metadata": {},
   "outputs": [
    {
     "name": "stdin",
     "output_type": "stream",
     "text": [
      "Enter a word:  educat\n"
     ]
    },
    {
     "name": "stdout",
     "output_type": "stream",
     "text": [
      "new word: *d*c*t\n"
     ]
    }
   ],
   "source": [
    "word = input(\"Enter a word: \")\n",
    "vowels = \"aeiouAEIOU\"\n",
    "new_word = \"\"\n",
    "for i in word:\n",
    "    if i in vowels:\n",
    "        new_word += \"*\"  \n",
    "    else:\n",
    "        new_word += i\n",
    "\n",
    "print(\"new word:\", new_word)\n"
   ]
  },
  {
   "cell_type": "raw",
   "id": "8ebfaf32-e104-495e-945f-ccbc7b48f2e0",
   "metadata": {},
   "source": [
    "5. Find Sum of Numbers Entered in a String\n",
    "   Input a string that contains letters and numbers mixed (like \"a1b2c3\") and find the sum of digits inside it.\n",
    "   Example: \"a1b2c3\" → 6"
   ]
  },
  {
   "cell_type": "code",
   "execution_count": 11,
   "id": "d0177181-3142-4b17-933d-22d95fc12302",
   "metadata": {},
   "outputs": [
    {
     "name": "stdin",
     "output_type": "stream",
     "text": [
      "Enter a string containing letters and numbers:  syjdbskjvg345789\n"
     ]
    },
    {
     "name": "stdout",
     "output_type": "stream",
     "text": [
      "Sum of numbers: 36\n"
     ]
    }
   ],
   "source": [
    "a= input(\"Enter a string containing letters and numbers: \")\n",
    "total = 0\n",
    "\n",
    "for i in a:\n",
    "    if i.isdigit():       \n",
    "        total += int(i)   \n",
    "\n",
    "print(\"Sum of numbers:\", total)\n"
   ]
  },
  {
   "cell_type": "raw",
   "id": "fbd70fc0-6632-48ed-b04f-1ead7f1c4ea2",
   "metadata": {},
   "source": [
    "6. Count Words Starting with a Vowel\n",
    "   Input a sentence and count how many words begin with a vowel.\n",
    "   Example: \"An apple is on the table\" → 3\n",
    "\n"
   ]
  },
  {
   "cell_type": "code",
   "execution_count": 12,
   "id": "8cc103b9-0909-45d2-949f-783a0b0c4227",
   "metadata": {},
   "outputs": [
    {
     "name": "stdin",
     "output_type": "stream",
     "text": [
      "Enter a sentence:  an apple a day keeps the doctor away\n"
     ]
    },
    {
     "name": "stdout",
     "output_type": "stream",
     "text": [
      "words starting with a vowel: 4\n"
     ]
    }
   ],
   "source": [
    "sentence = input(\"Enter a sentence: \")\n",
    "vowels = \"aeiouAEIOU\"\n",
    "words = sentence.split()\n",
    "count = 0\n",
    "for i in words:\n",
    "    if i[0] in vowels:\n",
    "        count += 1\n",
    "\n",
    "print(\"words starting with a vowel:\", count)"
   ]
  },
  {
   "cell_type": "raw",
   "id": "aca3e296-b365-4068-9891-a1dcf65885e9",
   "metadata": {},
   "source": [
    "7. Display Numbers with Sum of Digits Even\n",
    "   Ask for a range (start, end) and print only those numbers whose sum of digits is even.\n",
    "   Example: Between 10–30 → prints numbers like 11 (1+1=2), 13 (1+3=4), etc.\n",
    "\n"
   ]
  },
  {
   "cell_type": "code",
   "execution_count": 14,
   "id": "f4c82a66-9460-42aa-8a7f-8de8730740e9",
   "metadata": {},
   "outputs": [
    {
     "name": "stdin",
     "output_type": "stream",
     "text": [
      "Enter the start of the range:  10\n",
      "Enter the end of the range:  30\n"
     ]
    },
    {
     "name": "stdout",
     "output_type": "stream",
     "text": [
      "Numbers between 10 and 30 with even sum of digits:\n",
      "11 13 15 17 19 20 22 24 26 28 "
     ]
    }
   ],
   "source": [
    "start = int(input(\"Enter the start of the range: \"))\n",
    "end = int(input(\"Enter the end of the range: \"))\n",
    "print(f\"Numbers between {start} and {end} with even sum of digits:\")\n",
    "for i in range(start, end + 1):\n",
    "    digit_sum = sum(int(digit) for digit in str(i))\n",
    "    if digit_sum % 2 == 0:\n",
    "        print(i, end=\" \")\n"
   ]
  },
  {
   "cell_type": "raw",
   "id": "51dd0348-d04b-4cf7-b9d6-4360b9a9638c",
   "metadata": {},
   "source": [
    "8. Character Frequency (Sorted)\n",
    "Input a string and print each unique character with its count, sorted alphabetically.\n",
    "Example: \"banana\" →\n",
    "a: 3\n",
    "b: 1\n",
    "n: 2"
   ]
  },
  {
   "cell_type": "code",
   "execution_count": 15,
   "id": "cc309e7b-101f-48d3-af3f-1ce8fa0302ac",
   "metadata": {},
   "outputs": [
    {
     "name": "stdin",
     "output_type": "stream",
     "text": [
      "Enter a string:  an apple a day keeps the doctor away\n"
     ]
    },
    {
     "name": "stdout",
     "output_type": "stream",
     "text": [
      " : 7\n",
      "a: 6\n",
      "c: 1\n",
      "d: 2\n",
      "e: 4\n",
      "h: 1\n",
      "k: 1\n",
      "l: 1\n",
      "n: 1\n",
      "o: 2\n",
      "p: 3\n",
      "r: 1\n",
      "s: 1\n",
      "t: 2\n",
      "w: 1\n",
      "y: 2\n"
     ]
    }
   ],
   "source": [
    "text = input(\"Enter a string: \")\n",
    "words = sorted(set(text))  \n",
    "for i in words:\n",
    "    print(f\"{i}: {text.count(i)}\")"
   ]
  },
  {
   "cell_type": "raw",
   "id": "e1cde716-1519-4711-b726-f77f4c30668c",
   "metadata": {},
   "source": [
    "9. Numbers Having 3 as a Digit\n",
    "Ask the user for start and end, and print all numbers that contain the digit 3.\n",
    "Example: 1–40 → 3, 13, 23, 30–39\n"
   ]
  },
  {
   "cell_type": "code",
   "execution_count": 16,
   "id": "122715e3-f66c-48b9-8898-585228012687",
   "metadata": {},
   "outputs": [
    {
     "name": "stdin",
     "output_type": "stream",
     "text": [
      "Enter the start number:  1\n",
      "Enter the end number:  40\n"
     ]
    },
    {
     "name": "stdout",
     "output_type": "stream",
     "text": [
      "Numbers containing the digit 3:\n",
      "3,13,23,30,31,32,33,34,35,36,37,38,39,"
     ]
    }
   ],
   "source": [
    "start = int(input(\"Enter the start number: \"))\n",
    "end = int(input(\"Enter the end number: \"))\n",
    "print(\"Numbers containing the digit 3:\")\n",
    "\n",
    "for number in range(start, end + 1):\n",
    "    if '3' in str(number):\n",
    "        print(number, end=\",\")\n",
    "        "
   ]
  },
  {
   "cell_type": "raw",
   "id": "45cead7a-4397-4a75-97b7-104c3c67b2a8",
   "metadata": {},
   "source": [
    "10. Complex Divisibility with Digit Logic\n",
    "Ask the user for two integers: start and end.\n",
    "Using a for loop, print all numbers in that range that satisfy all these conditions:\n",
    "The number is divisible by 4 or 6 (but not both)\n",
    "The sum of its digits is odd\n",
    "The number is not divisible by 9\n",
    "Example:\n",
    "Input → start = 10, end = 100\n",
    "\n",
    "Output → 12, 16, 20, 24, 28, 32, 36, 40, 44, 52, 56, 60, 64, 68, 72, 76, 80, 84, 88, 92, 96, 100"
   ]
  },
  {
   "cell_type": "code",
   "execution_count": 17,
   "id": "135238da-606d-43c8-8f83-fb124bded494",
   "metadata": {},
   "outputs": [
    {
     "name": "stdin",
     "output_type": "stream",
     "text": [
      "Enter the start of the range:  10\n",
      "Enter the end of the range:  100\n"
     ]
    },
    {
     "name": "stdout",
     "output_type": "stream",
     "text": [
      "16, 30, 32, 52, 56, 76, 78, 92, 100, "
     ]
    }
   ],
   "source": [
    "start = int(input(\"Enter the start of the range: \"))\n",
    "end = int(input(\"Enter the end of the range: \"))\n",
    "\n",
    "for num in range(start, end + 1):\n",
    "    if (num % 4 == 0) ^ (num % 6 == 0):\n",
    "        digit_sum = sum(int(digit) for digit in str(num))\n",
    "        if digit_sum % 2 == 1:\n",
    "            if num % 9 != 0:\n",
    "                print(num, end=\", \")\n"
   ]
  },
  {
   "cell_type": "code",
   "execution_count": null,
   "id": "d9425973-c4fe-42d0-b9f3-c0fa2c2575d5",
   "metadata": {},
   "outputs": [],
   "source": []
  }
 ],
 "metadata": {
  "kernelspec": {
   "display_name": "Python [conda env:base] *",
   "language": "python",
   "name": "conda-base-py"
  },
  "language_info": {
   "codemirror_mode": {
    "name": "ipython",
    "version": 3
   },
   "file_extension": ".py",
   "mimetype": "text/x-python",
   "name": "python",
   "nbconvert_exporter": "python",
   "pygments_lexer": "ipython3",
   "version": "3.13.5"
  }
 },
 "nbformat": 4,
 "nbformat_minor": 5
}
